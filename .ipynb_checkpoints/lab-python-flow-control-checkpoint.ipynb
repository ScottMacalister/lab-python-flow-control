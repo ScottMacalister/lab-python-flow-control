{
 "cells": [
  {
   "cell_type": "markdown",
   "id": "d3bfc191-8885-42ee-b0a0-bbab867c6f9f",
   "metadata": {
    "tags": []
   },
   "source": [
    "# Lab | Flow Control"
   ]
  },
  {
   "cell_type": "markdown",
   "id": "3851fcd1-cf98-4653-9c89-e003b7ec9400",
   "metadata": {},
   "source": [
    "## Exercise: Managing Customer Orders Optimized\n",
    "\n",
    "In the last lab, you were starting an online store that sells various products. To ensure smooth operations, you developed a program that manages customer orders and inventory.\n",
    "\n",
    "You did so without using flow control. Let's go a step further and improve this code.\n",
    "\n",
    "Follow the steps below to complete the exercise:\n",
    "\n",
    "1. Look at your code from the lab data structures, and improve repeated code with loops.\n",
    "\n",
    "2. Instead of asking the user to input the name of three products that a customer wants to order, do the following:\n",
    "    \n",
    "    a. Prompt the user to enter the name of a product that a customer wants to order.\n",
    "        \n",
    "    b. Add the product name to the \"customer_orders\" set.\n",
    "    \n",
    "    c. Ask the user if they want to add another product (yes/no).\n",
    "    \n",
    "    d. Continue the loop until the user does not want to add another product.\n",
    "\n",
    "3. Instead of updating the inventory by subtracting 1 from the quantity of each product, only do it for  the products that were ordered (those in \"customer_orders\")."
   ]
  },
  {
   "cell_type": "code",
   "execution_count": 3,
   "id": "f816334c-1f87-4abe-bc59-b76f18e451cd",
   "metadata": {},
   "outputs": [],
   "source": [
    "products = [\"t-shirt\", \"mug\", \"hat\", \"book\", \"keychain\"]"
   ]
  },
  {
   "cell_type": "code",
   "execution_count": 4,
   "id": "75c73d83-1cb7-4af7-9d22-0d8b575d4e93",
   "metadata": {},
   "outputs": [],
   "source": [
    "inventory = {}"
   ]
  },
  {
   "cell_type": "code",
   "execution_count": 5,
   "id": "3e174b0d-563f-47af-a54c-f774c1d00183",
   "metadata": {},
   "outputs": [
    {
     "name": "stdin",
     "output_type": "stream",
     "text": [
      "How many t-shirts are in stock? Please enter an integer. 10\n",
      "How many mugs are in stock? Please enter an integer. 10\n",
      "How many hats are in stock? Please enter an integer. 10\n",
      "How many books are in stock? Please enter an integer. 10\n",
      "How many keychains are in stock? Please enter an integer. 10\n"
     ]
    }
   ],
   "source": [
    "for product in products:\n",
    "    quantity = int(input(f\"How many {product}s are in stock? Please enter an integer.\"))\n",
    "    inventory[product] = quantity"
   ]
  },
  {
   "cell_type": "code",
   "execution_count": 6,
   "id": "47182ab3-409c-427b-9eec-9cd29da7c84d",
   "metadata": {},
   "outputs": [
    {
     "data": {
      "text/plain": [
       "{'t-shirt': 10, 'mug': 10, 'hat': 10, 'book': 10, 'keychain': 10}"
      ]
     },
     "execution_count": 6,
     "metadata": {},
     "output_type": "execute_result"
    }
   ],
   "source": [
    "inventory"
   ]
  },
  {
   "cell_type": "code",
   "execution_count": 7,
   "id": "73c71801-5094-4d9d-a101-93c34a0a50b9",
   "metadata": {},
   "outputs": [],
   "source": [
    "customer_orders = set()"
   ]
  },
  {
   "cell_type": "code",
   "execution_count": null,
   "id": "e0bf6494-754b-428c-9fe9-e90872a5bd99",
   "metadata": {},
   "outputs": [],
   "source": []
  },
  {
   "cell_type": "code",
   "execution_count": 29,
   "id": "ca5e4b3e-c03b-4312-8021-69a53c77c5bd",
   "metadata": {},
   "outputs": [
    {
     "name": "stdin",
     "output_type": "stream",
     "text": [
      "Input the name of a product you would like to order from this list:\n",
      "t-shirt, mug, hat, book, keychain hat\n",
      "Would you like to order another product? Please reply either 'Yes' or 'No'. Yes\n",
      "Input the name of a product you would like to order from this list:\n",
      "t-shirt, mug, hat, book, keychain book\n",
      "Would you like to order another product? Please reply either 'Yes' or 'No'. No\n"
     ]
    }
   ],
   "source": [
    "for i in range(1):\n",
    "    order = input(\"Input the name of a product you would like to order from this list:\\nt-shirt, mug, hat, book, keychain\")\n",
    "    customer_orders.add(order)\n",
    "    \n",
    "    another_order = (input(\"Would you like to order another product? Please reply either 'Yes' or 'No'.\"))\n",
    "        \n",
    "    while another_order == \"Yes\":\n",
    "            input(\"Input the name of a product you would like to order from this list:\\nt-shirt, mug, hat, book, keychain\")\n",
    "            customer_orders.add(order)\n",
    "            another_order = bool(input(\"Would you like to order another product? Please reply either 'Yes' or 'No'.\"))\n",
    "    else:\n",
    "        break"
   ]
  },
  {
   "cell_type": "code",
   "execution_count": null,
   "id": "ad04ed8a-7ba9-4cc6-af1f-ef3f6ee7d4bd",
   "metadata": {},
   "outputs": [],
   "source": [
    "\n",
    "for i in range(1):\n",
    "    order = input(\"Input the name of a product you would like to order from this list:\\nt-shirt, mug, hat, book, keychain\")\n",
    "    customer_orders.add(order)\n",
    "\n",
    "    additional_order = input(\"Would you like to order another product? Please reply either 'Yes' or 'No'.\")\n",
    "    \n",
    "    if additional_order == \"Yes\":\n",
    "        order = input(\"Input the name of a product you would like to order from this list:\\nt-shirt, mug, hat, book, keychain\")\n",
    "        customer_orders.add(order)\n",
    "    else:\n",
    "        break"
   ]
  },
  {
   "cell_type": "code",
   "execution_count": null,
   "id": "4c13ad56-cf7d-483a-b337-dc8da994022e",
   "metadata": {},
   "outputs": [],
   "source": [
    "print(customer_orders)"
   ]
  },
  {
   "cell_type": "code",
   "execution_count": null,
   "id": "6a4fd68f-3554-46c8-91ba-478ba942f1ee",
   "metadata": {},
   "outputs": [],
   "source": [
    "total_products = len(customer_orders)\n",
    "print(total_products)"
   ]
  },
  {
   "cell_type": "code",
   "execution_count": null,
   "id": "cf2b5b20-7bca-4b83-8e9c-fef59ad8efef",
   "metadata": {},
   "outputs": [],
   "source": [
    "percentage_products = total_products * 20\n",
    "print(percentage_products)"
   ]
  },
  {
   "cell_type": "code",
   "execution_count": null,
   "id": "4c4d1c07-d7ef-4592-8455-3076e8929dc7",
   "metadata": {},
   "outputs": [],
   "source": [
    "order_status = (total_products, percentage_products)\n",
    "print(f\"Order Statistics:\\nTotal Products Ordered: {total_products}\\nPercentage of Products Ordered: {percentage_products}%\")"
   ]
  },
  {
   "cell_type": "code",
   "execution_count": null,
   "id": "83132629-04ff-4fb5-95ba-0484b013ba07",
   "metadata": {},
   "outputs": [],
   "source": [
    "for item in customer_orders:\n",
    "    inventory[item] = inventory[item] - 1"
   ]
  },
  {
   "cell_type": "code",
   "execution_count": null,
   "id": "04320098-e38c-488a-8d30-83dfe760ccb8",
   "metadata": {},
   "outputs": [],
   "source": [
    "print(inventory)"
   ]
  }
 ],
 "metadata": {
  "kernelspec": {
   "display_name": "Python 3 (ipykernel)",
   "language": "python",
   "name": "python3"
  },
  "language_info": {
   "codemirror_mode": {
    "name": "ipython",
    "version": 3
   },
   "file_extension": ".py",
   "mimetype": "text/x-python",
   "name": "python",
   "nbconvert_exporter": "python",
   "pygments_lexer": "ipython3",
   "version": "3.12.4"
  }
 },
 "nbformat": 4,
 "nbformat_minor": 5
}
